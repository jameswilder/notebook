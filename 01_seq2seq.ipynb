{
 "cells": [
  {
   "cell_type": "code",
   "execution_count": 1,
   "metadata": {},
   "outputs": [
    {
     "name": "stdout",
     "output_type": "stream",
     "text": [
      "Hello, TensorFlow!\n"
     ]
    }
   ],
   "source": [
    "import tensorflow as tf\n",
    "hello = tf.constant('Hello, TensorFlow!')\n",
    "sess = tf.Session()\n",
    "print(sess.run(hello))"
   ]
  },
  {
   "cell_type": "code",
   "execution_count": 13,
   "metadata": {
    "collapsed": true
   },
   "outputs": [],
   "source": [
    "import gzip\n",
    "import os\n",
    "import re\n",
    "import tarfile\n",
    "from tensorflow.python.platform import gfile\n",
    "from six.moves import urllib\n",
    "# URLs for WMT data.\n",
    "_WMT_ENFR_TRAIN_URL = \"http://www.statmt.org/wmt10/training-giga-fren.tar\"\n",
    "_WMT_ENFR_DEV_URL = \"http://www.statmt.org/wmt15/dev-v2.tgz\"\n",
    "\n",
    "def maybe_download(directory, filename, url):\n",
    "  \"\"\"Download filename from url unless it's already in directory.\"\"\"\n",
    "  if not os.path.exists(directory):\n",
    "    print(\"Creating directory %s\" % directory)\n",
    "    os.mkdir(directory)\n",
    "  filepath = os.path.join(directory, filename)\n",
    "  if not os.path.exists(filepath):\n",
    "    print(\"Downloading %s to %s\" % (url, filepath))\n",
    "    filepath, _ = urllib.request.urlretrieve(url, filepath)\n",
    "    statinfo = os.stat(filepath)\n",
    "    print(\"Successfully downloaded\", filename, statinfo.st_size, \"bytes\")\n",
    "  return filepath\n",
    "\n",
    "def get_wmt_enfr_train_set(directory):\n",
    "  \"\"\"Download the WMT en-fr training corpus to directory unless it's there.\"\"\"\n",
    "  train_path = os.path.join(directory, \"giga-fren.release2.fixed\")\n",
    "  if not (gfile.Exists(train_path +\".fr\") and gfile.Exists(train_path +\".en\")):\n",
    "    corpus_file = maybe_download(directory, \"training-giga-fren.tar\",\n",
    "                                 _WMT_ENFR_TRAIN_URL)\n",
    "    print(\"Extracting tar file %s\" % corpus_file)\n",
    "    with tarfile.open(corpus_file, \"r\") as corpus_tar:\n",
    "      corpus_tar.extractall(directory)\n",
    "    gunzip_file(train_path + \".fr.gz\", train_path + \".fr\")\n",
    "    gunzip_file(train_path + \".en.gz\", train_path + \".en\")\n",
    "  return train_path\n",
    "\n",
    "def gunzip_file(gz_path, new_path):\n",
    "  \"\"\"Unzips from gz_path into new_path.\"\"\"\n",
    "  print(\"Unpacking %s to %s\" % (gz_path, new_path))\n",
    "  with gzip.open(gz_path, \"rb\") as gz_file:\n",
    "    with open(new_path, \"wb\") as new_file:\n",
    "      for line in gz_file:\n",
    "        new_file.write(line)\n"
   ]
  },
  {
   "cell_type": "code",
   "execution_count": 14,
   "metadata": {},
   "outputs": [
    {
     "data": {
      "text/plain": [
       "'data/giga-fren.release2.fixed'"
      ]
     },
     "execution_count": 14,
     "metadata": {},
     "output_type": "execute_result"
    }
   ],
   "source": [
    "get_wmt_enfr_train_set(\"data\")"
   ]
  },
  {
   "cell_type": "code",
   "execution_count": null,
   "metadata": {
    "collapsed": true
   },
   "outputs": [],
   "source": []
  }
 ],
 "metadata": {
  "kernelspec": {
   "display_name": "Python 2",
   "language": "python",
   "name": "python2"
  },
  "language_info": {
   "codemirror_mode": {
    "name": "ipython",
    "version": 2
   },
   "file_extension": ".py",
   "mimetype": "text/x-python",
   "name": "python",
   "nbconvert_exporter": "python",
   "pygments_lexer": "ipython2",
   "version": "2.7.12"
  }
 },
 "nbformat": 4,
 "nbformat_minor": 2
}
